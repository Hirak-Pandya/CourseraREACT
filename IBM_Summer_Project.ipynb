{
  "nbformat": 4,
  "nbformat_minor": 0,
  "metadata": {
    "colab": {
      "name": "IBM Summer Project",
      "provenance": [],
      "collapsed_sections": [],
      "include_colab_link": true
    },
    "kernelspec": {
      "name": "python3",
      "display_name": "Python 3"
    },
    "language_info": {
      "name": "python"
    }
  },
  "cells": [
    {
      "cell_type": "markdown",
      "metadata": {
        "id": "view-in-github",
        "colab_type": "text"
      },
      "source": [
        "<a href=\"https://colab.research.google.com/github/Hirak-Pandya/CourseraREACT/blob/master/IBM_Summer_Project.ipynb\" target=\"_parent\"><img src=\"https://colab.research.google.com/assets/colab-badge.svg\" alt=\"Open In Colab\"/></a>"
      ]
    },
    {
      "cell_type": "code",
      "metadata": {
        "id": "dXekQMLS8JLM"
      },
      "source": [
        "#Portfolio optimization using Efficient Frontier "
      ],
      "execution_count": null,
      "outputs": []
    },
    {
      "cell_type": "markdown",
      "metadata": {
        "id": "dIQE6X1Ns0Ab"
      },
      "source": [
        "NSE Equity - https://docs.google.com/spreadsheets/d/1Du-_917AzZQr7txoJFQvrXzEjAAfLSsnJaCiNSGnYzI/edit?usp=sharing"
      ]
    },
    {
      "cell_type": "code",
      "metadata": {
        "id": "qhtoEZef80n_"
      },
      "source": [
        "from pandas_datareader import data as web\n",
        "import pandas as pd\n",
        "import numpy as np\n",
        "import seaborn as sns\n",
        "import math\n",
        "from datetime import datetime\n",
        "import matplotlib.pyplot as plt\n",
        "plt.style.use(\"fivethirtyeight\")"
      ],
      "execution_count": null,
      "outputs": []
    },
    {
      "cell_type": "markdown",
      "metadata": {
        "id": "t2OFVAqIoQOJ"
      },
      "source": [
        ""
      ]
    },
    {
      "cell_type": "code",
      "metadata": {
        "id": "nxTreRfN9xp_",
        "colab": {
          "base_uri": "https://localhost:8080/"
        },
        "outputId": "04ac56cb-ffbe-478a-bb77-f402098859b4"
      },
      "source": [
        "\n",
        "nstocks = int(input(\"Enter the no. of stocks :\"))\n",
        "assets = [ ]\n",
        "for i in range(0,nstocks):\n",
        "  data = input(\"Enter stock name\")\n",
        "  data+='.ns' \n",
        "  assets.append(data)\n",
        "  i+=1\n",
        "print(assets)"
      ],
      "execution_count": null,
      "outputs": [
        {
          "output_type": "stream",
          "text": [
            "Enter the no. of stocks :2\n",
            "Enter stock nameABB\n",
            "Enter stock nameRELIANCE\n",
            "['ABB.ns', 'RELIANCE.ns']\n"
          ],
          "name": "stdout"
        }
      ]
    },
    {
      "cell_type": "code",
      "metadata": {
        "id": "0KyvwX41BYI-"
      },
      "source": [
        "StartDate = '2020-01-01'\n",
        "EndDate = '2021-01-02'\n"
      ],
      "execution_count": null,
      "outputs": []
    },
    {
      "cell_type": "code",
      "metadata": {
        "colab": {
          "base_uri": "https://localhost:8080/",
          "height": 455
        },
        "id": "iwOn0isUCj7Q",
        "outputId": "abce268c-58e6-4de1-ae3f-08705fce96be"
      },
      "source": [
        "df = pd.DataFrame()\n",
        "for stocks in assets:\n",
        "  df[stocks] = web.DataReader(stocks,data_source='yahoo',start= StartDate, end = EndDate)['Adj Close']\n",
        "df"
      ],
      "execution_count": null,
      "outputs": [
        {
          "output_type": "execute_result",
          "data": {
            "text/html": [
              "<div>\n",
              "<style scoped>\n",
              "    .dataframe tbody tr th:only-of-type {\n",
              "        vertical-align: middle;\n",
              "    }\n",
              "\n",
              "    .dataframe tbody tr th {\n",
              "        vertical-align: top;\n",
              "    }\n",
              "\n",
              "    .dataframe thead th {\n",
              "        text-align: right;\n",
              "    }\n",
              "</style>\n",
              "<table border=\"1\" class=\"dataframe\">\n",
              "  <thead>\n",
              "    <tr style=\"text-align: right;\">\n",
              "      <th></th>\n",
              "      <th>ABB.ns</th>\n",
              "      <th>RELIANCE.ns</th>\n",
              "    </tr>\n",
              "    <tr>\n",
              "      <th>Date</th>\n",
              "      <th></th>\n",
              "      <th></th>\n",
              "    </tr>\n",
              "  </thead>\n",
              "  <tbody>\n",
              "    <tr>\n",
              "      <th>2020-01-01</th>\n",
              "      <td>1259.957520</td>\n",
              "      <td>1485.053467</td>\n",
              "    </tr>\n",
              "    <tr>\n",
              "      <th>2020-01-02</th>\n",
              "      <td>1264.059570</td>\n",
              "      <td>1510.335571</td>\n",
              "    </tr>\n",
              "    <tr>\n",
              "      <th>2020-01-03</th>\n",
              "      <td>1291.456421</td>\n",
              "      <td>1512.155518</td>\n",
              "    </tr>\n",
              "    <tr>\n",
              "      <th>2020-01-06</th>\n",
              "      <td>1257.027344</td>\n",
              "      <td>1477.085083</td>\n",
              "    </tr>\n",
              "    <tr>\n",
              "      <th>2020-01-07</th>\n",
              "      <td>1276.317627</td>\n",
              "      <td>1499.809570</td>\n",
              "    </tr>\n",
              "    <tr>\n",
              "      <th>...</th>\n",
              "      <td>...</td>\n",
              "      <td>...</td>\n",
              "    </tr>\n",
              "    <tr>\n",
              "      <th>2020-12-28</th>\n",
              "      <td>1208.763184</td>\n",
              "      <td>1996.876221</td>\n",
              "    </tr>\n",
              "    <tr>\n",
              "      <th>2020-12-29</th>\n",
              "      <td>1194.367920</td>\n",
              "      <td>1983.668701</td>\n",
              "    </tr>\n",
              "    <tr>\n",
              "      <th>2020-12-30</th>\n",
              "      <td>1200.175537</td>\n",
              "      <td>1989.101196</td>\n",
              "    </tr>\n",
              "    <tr>\n",
              "      <th>2020-12-31</th>\n",
              "      <td>1203.302856</td>\n",
              "      <td>1978.933960</td>\n",
              "    </tr>\n",
              "    <tr>\n",
              "      <th>2021-01-01</th>\n",
              "      <td>1223.803833</td>\n",
              "      <td>1981.126831</td>\n",
              "    </tr>\n",
              "  </tbody>\n",
              "</table>\n",
              "<p>251 rows × 2 columns</p>\n",
              "</div>"
            ],
            "text/plain": [
              "                 ABB.ns  RELIANCE.ns\n",
              "Date                                \n",
              "2020-01-01  1259.957520  1485.053467\n",
              "2020-01-02  1264.059570  1510.335571\n",
              "2020-01-03  1291.456421  1512.155518\n",
              "2020-01-06  1257.027344  1477.085083\n",
              "2020-01-07  1276.317627  1499.809570\n",
              "...                 ...          ...\n",
              "2020-12-28  1208.763184  1996.876221\n",
              "2020-12-29  1194.367920  1983.668701\n",
              "2020-12-30  1200.175537  1989.101196\n",
              "2020-12-31  1203.302856  1978.933960\n",
              "2021-01-01  1223.803833  1981.126831\n",
              "\n",
              "[251 rows x 2 columns]"
            ]
          },
          "metadata": {
            "tags": []
          },
          "execution_count": 9
        }
      ]
    },
    {
      "cell_type": "code",
      "metadata": {
        "colab": {
          "base_uri": "https://localhost:8080/",
          "height": 237
        },
        "id": "8j67NUrpvqHl",
        "outputId": "9ce7c175-b06b-43ef-b1f3-d20dfa597988"
      },
      "source": [
        "stocks_pct_change = df.pct_change().dropna()\n",
        "stocks_pct_change.head()"
      ],
      "execution_count": null,
      "outputs": [
        {
          "output_type": "execute_result",
          "data": {
            "text/html": [
              "<div>\n",
              "<style scoped>\n",
              "    .dataframe tbody tr th:only-of-type {\n",
              "        vertical-align: middle;\n",
              "    }\n",
              "\n",
              "    .dataframe tbody tr th {\n",
              "        vertical-align: top;\n",
              "    }\n",
              "\n",
              "    .dataframe thead th {\n",
              "        text-align: right;\n",
              "    }\n",
              "</style>\n",
              "<table border=\"1\" class=\"dataframe\">\n",
              "  <thead>\n",
              "    <tr style=\"text-align: right;\">\n",
              "      <th></th>\n",
              "      <th>ABB.ns</th>\n",
              "      <th>RELIANCE.ns</th>\n",
              "    </tr>\n",
              "    <tr>\n",
              "      <th>Date</th>\n",
              "      <th></th>\n",
              "      <th></th>\n",
              "    </tr>\n",
              "  </thead>\n",
              "  <tbody>\n",
              "    <tr>\n",
              "      <th>2020-01-02</th>\n",
              "      <td>0.003256</td>\n",
              "      <td>0.017024</td>\n",
              "    </tr>\n",
              "    <tr>\n",
              "      <th>2020-01-03</th>\n",
              "      <td>0.021674</td>\n",
              "      <td>0.001205</td>\n",
              "    </tr>\n",
              "    <tr>\n",
              "      <th>2020-01-06</th>\n",
              "      <td>-0.026659</td>\n",
              "      <td>-0.023192</td>\n",
              "    </tr>\n",
              "    <tr>\n",
              "      <th>2020-01-07</th>\n",
              "      <td>0.015346</td>\n",
              "      <td>0.015385</td>\n",
              "    </tr>\n",
              "    <tr>\n",
              "      <th>2020-01-08</th>\n",
              "      <td>0.003022</td>\n",
              "      <td>-0.007510</td>\n",
              "    </tr>\n",
              "  </tbody>\n",
              "</table>\n",
              "</div>"
            ],
            "text/plain": [
              "              ABB.ns  RELIANCE.ns\n",
              "Date                             \n",
              "2020-01-02  0.003256     0.017024\n",
              "2020-01-03  0.021674     0.001205\n",
              "2020-01-06 -0.026659    -0.023192\n",
              "2020-01-07  0.015346     0.015385\n",
              "2020-01-08  0.003022    -0.007510"
            ]
          },
          "metadata": {
            "tags": []
          },
          "execution_count": 10
        }
      ]
    },
    {
      "cell_type": "code",
      "metadata": {
        "colab": {
          "base_uri": "https://localhost:8080/"
        },
        "id": "HEe0vOVQyiKP",
        "outputId": "5b253281-7268-4b5c-a681-ef4cd45bf118"
      },
      "source": [
        "variance_stocks = stocks_pct_change.var()\n",
        "variance_stocks\n"
      ],
      "execution_count": null,
      "outputs": [
        {
          "output_type": "execute_result",
          "data": {
            "text/plain": [
              "ABB.ns         0.000543\n",
              "RELIANCE.ns    0.000874\n",
              "dtype: float64"
            ]
          },
          "metadata": {
            "tags": []
          },
          "execution_count": 11
        }
      ]
    },
    {
      "cell_type": "code",
      "metadata": {
        "colab": {
          "base_uri": "https://localhost:8080/"
        },
        "id": "BYwgDPJTy7jt",
        "outputId": "2ed533bb-73ee-410d-87de-fb8a6b3decf1"
      },
      "source": [
        "std_stocks = np.std(stocks_pct_change)*np.sqrt(250)\n",
        "print(std_stocks)"
      ],
      "execution_count": null,
      "outputs": [
        {
          "output_type": "stream",
          "text": [
            "ABB.ns         0.367646\n",
            "RELIANCE.ns    0.466619\n",
            "dtype: float64\n"
          ],
          "name": "stdout"
        }
      ]
    },
    {
      "cell_type": "code",
      "metadata": {
        "id": "bmPB0NrA0zK_",
        "colab": {
          "base_uri": "https://localhost:8080/",
          "height": 375
        },
        "outputId": "e455c1f0-61fb-45e1-f8cb-3381fec13cc2"
      },
      "source": [
        "std_stocks.plot(kind='bar')"
      ],
      "execution_count": null,
      "outputs": [
        {
          "output_type": "execute_result",
          "data": {
            "text/plain": [
              "<matplotlib.axes._subplots.AxesSubplot at 0x7ffaea085710>"
            ]
          },
          "metadata": {
            "tags": []
          },
          "execution_count": 15
        },
        {
          "output_type": "display_data",
          "data": {
            "image/png": "[encoded data removed]",
            "text/plain": [
              "<Figure size 432x288 with 1 Axes>"
            ]
          },
          "metadata": {
            "tags": []
          }
        }
      ]
    },
    {
      "cell_type": "code",
      "metadata": {
        "colab": {
          "base_uri": "https://localhost:8080/",
          "height": 313
        },
        "id": "udFCKvnc4L51",
        "outputId": "bb1fbfa1-1373-4a10-88a7-64a2fc4625fa"
      },
      "source": [
        "stocks_corr = stocks_pct_change.corr()\n",
        "sns.heatmap(stocks_corr, \n",
        "        xticklabels=stocks_corr.columns,\n",
        "        yticklabels=stocks_corr.columns,\n",
        "            cmap=\"Greens\")"
      ],
      "execution_count": null,
      "outputs": [
        {
          "output_type": "execute_result",
          "data": {
            "text/plain": [
              "<matplotlib.axes._subplots.AxesSubplot at 0x7ffadb0d0fd0>"
            ]
          },
          "metadata": {
            "tags": []
          },
          "execution_count": 21
        },
        {
          "output_type": "display_data",
          "data": {
            "image/png": "[encoded data removed]",
            "text/plain": [
              "<Figure size 432x288 with 2 Axes>"
            ]
          },
          "metadata": {
            "tags": []
          }
        }
      ]
    },
    {
      "cell_type": "code",
      "metadata": {
        "colab": {
          "base_uri": "https://localhost:8080/"
        },
        "id": "Pg8EsN857WvU",
        "outputId": "8ebdd0eb-885c-4489-9980-ab93f113b115"
      },
      "source": [
        "stock_mean = df.resample('M').last().pct_change().mean()\n",
        "stock_mean"
      ],
      "execution_count": null,
      "outputs": [
        {
          "output_type": "execute_result",
          "data": {
            "text/plain": [
              "ABB.ns         0.005483\n",
              "RELIANCE.ns    0.037872\n",
              "dtype: float64"
            ]
          },
          "metadata": {
            "tags": []
          },
          "execution_count": 27
        }
      ]
    }
  ]
}